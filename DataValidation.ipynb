{
 "cells": [
  {
   "cell_type": "code",
   "execution_count": 38,
   "metadata": {},
   "outputs": [],
   "source": [
    "import pandas as pd\n",
    "import numpy as np\n",
    "import pickle"
   ]
  },
  {
   "cell_type": "code",
   "execution_count": 39,
   "metadata": {},
   "outputs": [],
   "source": [
    "df = pd.concat(chunk for chunk in pd.read_csv(\"HistoricTariffs-2018-05-20.csv\", \n",
    "                                              chunksize=10**5,\n",
    "                                              sep = '\\t',\n",
    "                                              low_memory=False\n",
    "                                             )\n",
    "              )"
   ]
  },
  {
   "cell_type": "code",
   "execution_count": 67,
   "metadata": {},
   "outputs": [],
   "source": [
    "def train_model(input_df):\n",
    "    trained_data = {}\n",
    "    uniq_region = {}\n",
    "    for col_name in input_df.columns.values:\n",
    "        if input_df.dtypes[col_name] ==  'object' or input_df.dtypes[col_name] ==  'bool':\n",
    "            values_to_train = pd.DataFrame(input_df[col_name].drop_duplicates())\n",
    "            for i in values_to_train:\n",
    "                trained_data[col_name] = list(values_to_train[i])\n",
    "    \n",
    "    uniq_region=input_df[['Region','RegionID']].drop_duplicates()\n",
    "    uniq_region.set_index(\"Region\", drop=True, inplace=True)\n",
    "    uniq_region=uniq_region.to_dict()['RegionID']\n",
    "    return trained_data,uniq_region\n",
    "\n",
    "pickle.dump(train_model(df), \n",
    "            open('trained_data.pickle', 'wb')\n",
    "           )"
   ]
  },
  {
   "cell_type": "code",
   "execution_count": 40,
   "metadata": {},
   "outputs": [],
   "source": [
    "def validate_date(df):\n",
    "    text_cols, region_ids = pickle.load(open('trained_data.pickle', 'rb'))\n",
    "    for col_name, values in text_cols.items():\n",
    "        trained_data = pd.DataFrame(values).rename(columns={0:col_name})\n",
    "        matched_values = pd.merge(trained_data, \n",
    "                                  pd.DataFrame(df[col_name]), \n",
    "                                  on=[col_name], how='right', \n",
    "                                  indicator='Exist')\n",
    "        matched_values['Exist'] = np.where(matched_values.Exist == 'both', True, False)\n",
    "        if len(matched_values.index[matched_values['Exist']==True]) == len(df[col_name]):\n",
    "                pass\n",
    "        else:\n",
    "            err_matched_values = matched_values[matched_values['Exist']==False][col_name].unique()\n",
    "            print('Column:', col_name, '==>  Row Numbers:',\n",
    "                      df.loc[df[col_name].isin(err_matched_values)].index.values+1)\n",
    "\n",
    "validate_date(df)"
   ]
  },
  {
   "cell_type": "code",
   "execution_count": 56,
   "metadata": {},
   "outputs": [
    {
     "data": {
      "text/plain": [
       "(10, 23)"
      ]
     },
     "execution_count": 56,
     "metadata": {},
     "output_type": "execute_result"
    }
   ],
   "source": [
    "df.head()\n",
    "df = df.select_dtypes(exclude=['object','bool'])\n",
    "#df-\n",
    "\n",
    "df['RegionID'].min(),df['RegionID'].max()"
   ]
  },
  {
   "cell_type": "code",
   "execution_count": 55,
   "metadata": {},
   "outputs": [
    {
     "data": {
      "text/plain": [
       "<matplotlib.axes._subplots.AxesSubplot at 0x236c2675948>"
      ]
     },
     "execution_count": 55,
     "metadata": {},
     "output_type": "execute_result"
    },
    {
     "data": {
      "image/png": "[encoded data removed]",
      "text/plain": [
       "<Figure size 432x288 with 1 Axes>"
      ]
     },
     "metadata": {
      "needs_background": "light"
     },
     "output_type": "display_data"
    }
   ],
   "source": [
    "import seaborn as sb\n",
    "df['RegionID'].plot.box(grid='True')"
   ]
  },
  {
   "cell_type": "code",
   "execution_count": 48,
   "metadata": {},
   "outputs": [
    {
     "name": "stdout",
     "output_type": "stream",
     "text": [
      "[0.8473559  0.8473559  0.8473559  ... 1.10380535 1.10380535 1.10380535]\n"
     ]
    }
   ],
   "source": [
    "from scipy import stats\n",
    "import numpy as np\n",
    "z = np.abs(stats.zscore(df['RegionID']))\n",
    "print(z)"
   ]
  },
  {
   "cell_type": "code",
   "execution_count": null,
   "metadata": {},
   "outputs": [],
   "source": [
    "    "
   ]
  }
 ],
 "metadata": {
  "kernelspec": {
   "display_name": "Python 3",
   "language": "python",
   "name": "python3"
  },
  "language_info": {
   "codemirror_mode": {
    "name": "ipython",
    "version": 3
   },
   "file_extension": ".py",
   "mimetype": "text/x-python",
   "name": "python",
   "nbconvert_exporter": "python",
   "pygments_lexer": "ipython3",
   "version": "3.7.4"
  }
 },
 "nbformat": 4,
 "nbformat_minor": 4
}
